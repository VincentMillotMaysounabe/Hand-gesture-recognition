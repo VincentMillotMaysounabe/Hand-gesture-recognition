{
 "cells": [
  {
   "cell_type": "code",
   "execution_count": 19,
   "id": "ca27fd63-a79b-43cb-bb8c-15dd5feb40d0",
   "metadata": {},
   "outputs": [
    {
     "name": "stdout",
     "output_type": "stream",
     "text": [
      "recherche des fichiers à ouvrir...\n",
      "Importation et traitement des fichiers du sujet n°1...\n"
     ]
    },
    {
     "data": {
      "application/vnd.jupyter.widget-view+json": {
       "model_id": "",
       "version_major": 2,
       "version_minor": 0
      },
      "text/plain": [
       "fichiers:   0%|          | 0/235 [00:00<?, ?it/s]"
      ]
     },
     "metadata": {},
     "output_type": "display_data"
    },
    {
     "name": "stdout",
     "output_type": "stream",
     "text": [
      "Importation et traitement des fichiers du sujet n°2...\n"
     ]
    },
    {
     "data": {
      "application/vnd.jupyter.widget-view+json": {
       "model_id": "",
       "version_major": 2,
       "version_minor": 0
      },
      "text/plain": [
       "fichiers:   0%|          | 0/235 [00:00<?, ?it/s]"
      ]
     },
     "metadata": {},
     "output_type": "display_data"
    },
    {
     "name": "stdout",
     "output_type": "stream",
     "text": [
      "Importation et traitement des fichiers du sujet n°3...\n"
     ]
    },
    {
     "data": {
      "application/vnd.jupyter.widget-view+json": {
       "model_id": "",
       "version_major": 2,
       "version_minor": 0
      },
      "text/plain": [
       "fichiers:   0%|          | 0/235 [00:00<?, ?it/s]"
      ]
     },
     "metadata": {},
     "output_type": "display_data"
    },
    {
     "name": "stdout",
     "output_type": "stream",
     "text": [
      "Importation et traitement des fichiers du sujet n°4...\n"
     ]
    },
    {
     "data": {
      "application/vnd.jupyter.widget-view+json": {
       "model_id": "",
       "version_major": 2,
       "version_minor": 0
      },
      "text/plain": [
       "fichiers:   0%|          | 0/235 [00:00<?, ?it/s]"
      ]
     },
     "metadata": {},
     "output_type": "display_data"
    },
    {
     "name": "stdout",
     "output_type": "stream",
     "text": [
      "Importation et traitement des fichiers du sujet n°5...\n"
     ]
    },
    {
     "data": {
      "application/vnd.jupyter.widget-view+json": {
       "model_id": "",
       "version_major": 2,
       "version_minor": 0
      },
      "text/plain": [
       "fichiers:   0%|          | 0/235 [00:00<?, ?it/s]"
      ]
     },
     "metadata": {},
     "output_type": "display_data"
    },
    {
     "name": "stdout",
     "output_type": "stream",
     "text": [
      "Importation et traitement des fichiers du sujet n°6...\n"
     ]
    },
    {
     "data": {
      "application/vnd.jupyter.widget-view+json": {
       "model_id": "",
       "version_major": 2,
       "version_minor": 0
      },
      "text/plain": [
       "fichiers:   0%|          | 0/235 [00:00<?, ?it/s]"
      ]
     },
     "metadata": {},
     "output_type": "display_data"
    },
    {
     "name": "stdout",
     "output_type": "stream",
     "text": [
      "Importation et traitement des fichiers du sujet n°7...\n"
     ]
    },
    {
     "data": {
      "application/vnd.jupyter.widget-view+json": {
       "model_id": "",
       "version_major": 2,
       "version_minor": 0
      },
      "text/plain": [
       "fichiers:   0%|          | 0/235 [00:00<?, ?it/s]"
      ]
     },
     "metadata": {},
     "output_type": "display_data"
    },
    {
     "name": "stdout",
     "output_type": "stream",
     "text": [
      "Importation et traitement des fichiers du sujet n°8...\n"
     ]
    },
    {
     "data": {
      "application/vnd.jupyter.widget-view+json": {
       "model_id": "",
       "version_major": 2,
       "version_minor": 0
      },
      "text/plain": [
       "fichiers:   0%|          | 0/235 [00:00<?, ?it/s]"
      ]
     },
     "metadata": {},
     "output_type": "display_data"
    },
    {
     "name": "stdout",
     "output_type": "stream",
     "text": [
      "Importation et traitement des fichiers du sujet n°9...\n"
     ]
    },
    {
     "data": {
      "application/vnd.jupyter.widget-view+json": {
       "model_id": "",
       "version_major": 2,
       "version_minor": 0
      },
      "text/plain": [
       "fichiers:   0%|          | 0/235 [00:00<?, ?it/s]"
      ]
     },
     "metadata": {},
     "output_type": "display_data"
    },
    {
     "name": "stdout",
     "output_type": "stream",
     "text": [
      "Importation et traitement des fichiers du sujet n°10...\n"
     ]
    },
    {
     "data": {
      "application/vnd.jupyter.widget-view+json": {
       "model_id": "",
       "version_major": 2,
       "version_minor": 0
      },
      "text/plain": [
       "fichiers:   0%|          | 0/235 [00:00<?, ?it/s]"
      ]
     },
     "metadata": {},
     "output_type": "display_data"
    },
    {
     "name": "stdout",
     "output_type": "stream",
     "text": [
      "Importation et traitement des fichiers du sujet n°11...\n"
     ]
    },
    {
     "data": {
      "application/vnd.jupyter.widget-view+json": {
       "model_id": "",
       "version_major": 2,
       "version_minor": 0
      },
      "text/plain": [
       "fichiers:   0%|          | 0/235 [00:00<?, ?it/s]"
      ]
     },
     "metadata": {},
     "output_type": "display_data"
    },
    {
     "name": "stdout",
     "output_type": "stream",
     "text": [
      "Importation et traitement des fichiers du sujet n°12...\n"
     ]
    },
    {
     "data": {
      "application/vnd.jupyter.widget-view+json": {
       "model_id": "",
       "version_major": 2,
       "version_minor": 0
      },
      "text/plain": [
       "fichiers:   0%|          | 0/235 [00:00<?, ?it/s]"
      ]
     },
     "metadata": {},
     "output_type": "display_data"
    },
    {
     "name": "stdout",
     "output_type": "stream",
     "text": [
      "Importation et traitement des fichiers du sujet n°13...\n"
     ]
    },
    {
     "data": {
      "application/vnd.jupyter.widget-view+json": {
       "model_id": "",
       "version_major": 2,
       "version_minor": 0
      },
      "text/plain": [
       "fichiers:   0%|          | 0/235 [00:00<?, ?it/s]"
      ]
     },
     "metadata": {},
     "output_type": "display_data"
    },
    {
     "name": "stdout",
     "output_type": "stream",
     "text": [
      "Importation et traitement des fichiers du sujet n°14...\n"
     ]
    },
    {
     "data": {
      "application/vnd.jupyter.widget-view+json": {
       "model_id": "",
       "version_major": 2,
       "version_minor": 0
      },
      "text/plain": [
       "fichiers:   0%|          | 0/235 [00:00<?, ?it/s]"
      ]
     },
     "metadata": {},
     "output_type": "display_data"
    },
    {
     "name": "stdout",
     "output_type": "stream",
     "text": [
      "Importation et traitement des fichiers du sujet n°15...\n"
     ]
    },
    {
     "data": {
      "application/vnd.jupyter.widget-view+json": {
       "model_id": "",
       "version_major": 2,
       "version_minor": 0
      },
      "text/plain": [
       "fichiers:   0%|          | 0/235 [00:00<?, ?it/s]"
      ]
     },
     "metadata": {},
     "output_type": "display_data"
    },
    {
     "name": "stdout",
     "output_type": "stream",
     "text": [
      "Importation et traitement des fichiers du sujet n°16...\n"
     ]
    },
    {
     "data": {
      "application/vnd.jupyter.widget-view+json": {
       "model_id": "",
       "version_major": 2,
       "version_minor": 0
      },
      "text/plain": [
       "fichiers:   0%|          | 0/235 [00:00<?, ?it/s]"
      ]
     },
     "metadata": {},
     "output_type": "display_data"
    },
    {
     "name": "stdout",
     "output_type": "stream",
     "text": [
      "Importation et traitement des fichiers du sujet n°17...\n"
     ]
    },
    {
     "data": {
      "application/vnd.jupyter.widget-view+json": {
       "model_id": "",
       "version_major": 2,
       "version_minor": 0
      },
      "text/plain": [
       "fichiers:   0%|          | 0/235 [00:00<?, ?it/s]"
      ]
     },
     "metadata": {},
     "output_type": "display_data"
    },
    {
     "name": "stdout",
     "output_type": "stream",
     "text": [
      "Importation et traitement des fichiers du sujet n°18...\n"
     ]
    },
    {
     "data": {
      "application/vnd.jupyter.widget-view+json": {
       "model_id": "",
       "version_major": 2,
       "version_minor": 0
      },
      "text/plain": [
       "fichiers:   0%|          | 0/235 [00:00<?, ?it/s]"
      ]
     },
     "metadata": {},
     "output_type": "display_data"
    },
    {
     "name": "stdout",
     "output_type": "stream",
     "text": [
      "Importation et traitement des fichiers du sujet n°19...\n"
     ]
    },
    {
     "data": {
      "application/vnd.jupyter.widget-view+json": {
       "model_id": "",
       "version_major": 2,
       "version_minor": 0
      },
      "text/plain": [
       "fichiers:   0%|          | 0/235 [00:00<?, ?it/s]"
      ]
     },
     "metadata": {},
     "output_type": "display_data"
    },
    {
     "name": "stdout",
     "output_type": "stream",
     "text": [
      "Importation et traitement des fichiers du sujet n°20...\n"
     ]
    },
    {
     "data": {
      "application/vnd.jupyter.widget-view+json": {
       "model_id": "",
       "version_major": 2,
       "version_minor": 0
      },
      "text/plain": [
       "fichiers:   0%|          | 0/235 [00:00<?, ?it/s]"
      ]
     },
     "metadata": {},
     "output_type": "display_data"
    },
    {
     "name": "stdout",
     "output_type": "stream",
     "text": [
      "Importation et traitement des fichiers du sujet n°21...\n"
     ]
    },
    {
     "data": {
      "application/vnd.jupyter.widget-view+json": {
       "model_id": "",
       "version_major": 2,
       "version_minor": 0
      },
      "text/plain": [
       "fichiers:   0%|          | 0/235 [00:00<?, ?it/s]"
      ]
     },
     "metadata": {},
     "output_type": "display_data"
    },
    {
     "name": "stdout",
     "output_type": "stream",
     "text": [
      "Importation et traitement des fichiers du sujet n°22...\n"
     ]
    },
    {
     "data": {
      "application/vnd.jupyter.widget-view+json": {
       "model_id": "",
       "version_major": 2,
       "version_minor": 0
      },
      "text/plain": [
       "fichiers:   0%|          | 0/235 [00:00<?, ?it/s]"
      ]
     },
     "metadata": {},
     "output_type": "display_data"
    },
    {
     "name": "stdout",
     "output_type": "stream",
     "text": [
      "Importation et traitement des fichiers du sujet n°23...\n"
     ]
    },
    {
     "data": {
      "application/vnd.jupyter.widget-view+json": {
       "model_id": "",
       "version_major": 2,
       "version_minor": 0
      },
      "text/plain": [
       "fichiers:   0%|          | 0/235 [00:00<?, ?it/s]"
      ]
     },
     "metadata": {},
     "output_type": "display_data"
    },
    {
     "name": "stdout",
     "output_type": "stream",
     "text": [
      "Importation et traitement des fichiers du sujet n°24...\n"
     ]
    },
    {
     "data": {
      "application/vnd.jupyter.widget-view+json": {
       "model_id": "",
       "version_major": 2,
       "version_minor": 0
      },
      "text/plain": [
       "fichiers:   0%|          | 0/235 [00:00<?, ?it/s]"
      ]
     },
     "metadata": {},
     "output_type": "display_data"
    },
    {
     "name": "stdout",
     "output_type": "stream",
     "text": [
      "Importation et traitement des fichiers du sujet n°25...\n"
     ]
    },
    {
     "data": {
      "application/vnd.jupyter.widget-view+json": {
       "model_id": "",
       "version_major": 2,
       "version_minor": 0
      },
      "text/plain": [
       "fichiers:   0%|          | 0/235 [00:00<?, ?it/s]"
      ]
     },
     "metadata": {},
     "output_type": "display_data"
    },
    {
     "name": "stdout",
     "output_type": "stream",
     "text": [
      "Importation terminée, temps d'execution :  7 s\n"
     ]
    }
   ],
   "source": [
    "#Preprocessing data from dataset\n",
    "#Caution : SEEDS dataset needs to be downloaded and exported in the dataset folder\n",
    "import scipy.io\n",
    "import numpy as np\n",
    "from os import listdir\n",
    "from os.path import isfile, join\n",
    "import matplotlib.pyplot as plt\n",
    "import time\n",
    "from tqdm.notebook import tqdm\n",
    "import scipy.ndimage\n",
    "\n",
    "def Import_Fichiers(chemin, sujets = [i for i in range(1,26)], gestes = [i for i in range(1,14)],\n",
    "                    vitesse = [\"fast\", \"slow\"], N_num = 10, signaux = 0, w_window = 1.0, window_interval = 0.5):\n",
    "    \"\"\"\n",
    "    Ouvre les fichiers demandés et réduits le nombre d'échantillons des signaux par moyenne RMS.\n",
    "    --------------------------------------------------------------------------------------------\n",
    "    paramètres:\n",
    "    chemin: type = str : chemin absolu de la base de données.\n",
    "    sujets: type = liste d'entiers : contient les numéros des sujets pour lesquels importer les\n",
    "            données. Defaut = [i for i in range(1,26)] (ensemble des sujets).\n",
    "    gestes: type = liste d'entiers : contient les numéros des gestes pour lesquels importer les\n",
    "            données. Defaut = [i for i in range(1,14)] (ensemble des gestes).\n",
    "    vitesse: type = liste de str : définit la vitesse d'éxecution des mouvements à importer,\n",
    "            \"fast\" pour les mouvements à vitesse normale, \"slow\" pour ceux lents.\n",
    "            Défaut = [\"fast\", \"slow\"] (ensemble des vitesses).\n",
    "    N_num: type = entier : nombre d'échantillons que doivent contenir les signaux après\n",
    "            traitement. Défaut = 10.\n",
    "    signaux: type = entier : nombre de signaux ignorés entre deux signaux utilisés (signaux = 2\n",
    "            signifie qu'1 signal sur 3 sera utilisé)\n",
    "            Défaut = 0 (aucun signal ignoré)\n",
    "    w_window : type = flotant : largeur de la fenêtre en secondes\n",
    "            Défaut = 1.0s\n",
    "    window_interval : type = flottant : temps (en secondes) séparant le début de deux fenêtres.\n",
    "            Si égal à w_window, il n'y a aucune redondance du signal\n",
    "            Défaut = 0.5s\n",
    "    --------------------------------------------------------------------------------------------\n",
    "    retourne:\n",
    "    Lgeste : type = liste d'entiers : listes des numéros des gestes importés\n",
    "    X : type = liste de liste de flottants : chaque indice de la liste correspond à un fichier\n",
    "            ouvert. Pour chaque fichier une liste contient les valeurs des signaux traités mit\n",
    "            bout à bout.\n",
    "    Ltimig : liste de tuples du début et de la fin du mouvement (en secondes)\n",
    "    \"\"\"\n",
    "    Lgeste = []\n",
    "    Lsujet = []\n",
    "    Ltiming = []\n",
    "    X = []\n",
    "    \n",
    "    for sujet in sujets:\n",
    "        print(\"Importation et traitement des fichiers du sujet n°\" + str(sujet)+\"...\")\n",
    "        \n",
    "        #Récupération des chemins des fichiers qui nous intéressent\n",
    "        if sujet < 10:\n",
    "            path = chemin + \"/subj0\" + str(sujet) + \"/\"\n",
    "        else:\n",
    "            path = chemin + \"/subj\" + str(sujet) + \"/\"\n",
    "        \n",
    "        for f in tqdm(listdir(path), desc = \"fichiers\", leave =False ): #pour tous les fichiers\n",
    "            \n",
    "            if isfile(join(path, f)):\n",
    "                D = scipy.io.loadmat(path + \"/\" + f) #Chargement du fichier si celui-ci est atteignable\n",
    "                \n",
    "                try :\n",
    "                    \n",
    "                    if D['speed'] in vitesse and D['movement'][0] in gestes: #Si le fichier correspond aux critères de vitesse et de mouvement\n",
    "                        \n",
    "                        X.append([])\n",
    "                        Lgeste.append(D['movement'][0])\n",
    "                        Lsujet.append(sujet)\n",
    "                        \n",
    "                        #Traitement des signaux\n",
    "                        for i in range(len(D['emg'])):\n",
    "                            X[-1].append([])\n",
    "                            \n",
    "                            if i%(signaux+1)==0:\n",
    "                                L = D['emg'][i]\n",
    "                                \n",
    "                                N = int(len(L)/N_num)\n",
    "                                for j in range(N_num):\n",
    "                                    X[-1][-1].append(np.sqrt(np.mean(L[j*N:(j+1)*N]**2)))\n",
    "                \n",
    "                except :\n",
    "                    None\n",
    "                    \n",
    "        np.save(\"data/BDD_X\"+str(sujet)+\".npy\",X)\n",
    "        np.save(\"data/BDD_Lgeste\"+str(sujet)+\".npy\",Lgeste)\n",
    "        X = []\n",
    "        Lgeste = []\n",
    "        \n",
    "    return Lgeste, D, X\n",
    "\n",
    "\n",
    "tic = time.time()\n",
    "\n",
    "chemin = \"SEEDS_dataset\"\n",
    "print(\"recherche des fichiers à ouvrir...\")\n",
    "\n",
    "gestes = ['cilinder','thumbExt','disc','middle_flex','thumbAdd','fist','index_flex','index','pinch','middle','3digit','thumbFlex','point']\n",
    "Lgeste, D, X = Import_Fichiers(chemin, [i for i in range(1,26)], gestes , ['fast','slow'] , N_num = 100)\n",
    "\n",
    "tac = time.time()\n",
    "print(\"Importation terminée, temps d'execution : \",str(tac - tic)[10],\"s\")"
   ]
  }
 ],
 "metadata": {
  "kernelspec": {
   "display_name": "Python 3",
   "language": "python",
   "name": "python3"
  },
  "language_info": {
   "codemirror_mode": {
    "name": "ipython",
    "version": 3
   },
   "file_extension": ".py",
   "mimetype": "text/x-python",
   "name": "python",
   "nbconvert_exporter": "python",
   "pygments_lexer": "ipython3",
   "version": "3.8.8"
  }
 },
 "nbformat": 4,
 "nbformat_minor": 5
}
